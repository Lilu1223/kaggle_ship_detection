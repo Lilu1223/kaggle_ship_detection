{
 "cells": [
  {
   "cell_type": "code",
   "execution_count": 129,
   "metadata": {
    "collapsed": true
   },
   "outputs": [],
   "source": [
    "from PIL import Image\n",
    "import numpy as np\n",
    "\n",
    "import pandas as pd "
   ]
  },
  {
   "cell_type": "code",
   "execution_count": 130,
   "metadata": {},
   "outputs": [],
   "source": [
    "def load_image( infilename ) :\n",
    "    img = Image.open( infilename )\n",
    "    img.load()\n",
    "    data = np.asarray( img, dtype=\"int32\" )\n",
    "    return data\n",
    "\n",
    "def save_image( npdata, outfilename ) :\n",
    "    img = Image.fromarray( np.asarray( np.clip(npdata,0,255), dtype=\"uint8\"), \"L\" )\n",
    "    img.save( outfilename )"
   ]
  },
  {
   "cell_type": "code",
   "execution_count": 132,
   "metadata": {},
   "outputs": [],
   "source": [
    "imgfile = load_image('../Dataset/Ship_Detection/train/0005d01c8.jpg')"
   ]
  },
  {
   "cell_type": "code",
   "execution_count": 133,
   "metadata": {
    "collapsed": true
   },
   "outputs": [
    {
     "data": {
      "text/plain": [
       "(768, 768, 3)"
      ]
     },
     "execution_count": 133,
     "metadata": {},
     "output_type": "execute_result"
    }
   ],
   "source": [
    "imgfile.shape"
   ]
  },
  {
   "cell_type": "code",
   "execution_count": 134,
   "metadata": {},
   "outputs": [],
   "source": [
    "rlemask = '56010 1 56777 3 57544 6 58312 7 59079 9 59846 11 60613 14 61380 16 62148 17 62915 19 63682 22 64449 24 65216 26 65984 27 66751 30 67518 32 68285 34 69052 36 69820 38 70587 40 71354 42 72121 42 72888 42 73656 42 74423 42 75190 42 75957 42 76724 42 77492 42 78259 42 79026 42 79793 42 80560 42 81328 42 82095 42 82862 42 83629 42 84396 42 85164 42 85931 42 86698 42 87465 42 88232 42 89000 42 89767 42 90534 42 91301 42 92068 42 92836 42 93603 42 94370 42 95137 42 95904 42 96672 42 97439 42 98206 42 98973 42 99740 42 100508 42 101275 42 102042 42 102809 42 103576 42 104344 42 105111 42 105878 42 106645 42 107412 42 108180 42 108947 42 109714 42 110481 42 111249 41 112016 42 112783 42 113550 42 114317 42 115085 41 115852 42 116619 42 117386 42 118153 42 118921 41 119688 42 120455 42 121222 42 121989 42 122757 41 123524 42 124291 42 125058 42 125825 42 126593 42 127360 42 128127 42 128894 42 129661 42 130429 42 131196 42 131963 42 132730 42 133497 42 134265 42 135032 42 135799 42 136566 42 137333 42 138101 42 138868 42 139635 42 140402 42 141169 42 141937 42 142704 42 143471 42 144238 42 145005 42 145773 42 146540 42 147307 42 148074 42 148841 42 149609 42 150376 42 151143 42 151910 42 152677 42 153445 42 154212 42 154979 42 155746 42 156513 42 157281 42 158048 42 158815 42 159582 42 160349 42 161117 42 161884 42 162651 42 163418 42 164185 42 164953 42 165720 42 166487 42 167256 40 168025 38 168795 36 169564 34 170333 32 171102 30 171872 27 172641 26 173410 24 174179 22 174949 19 175718 17 176487 16 177256 14 178026 11 178795 9 179564 7 180333 6 181103 3 181872 1'\n",
    "height = imgfile.shape[0]\n",
    "width = imgfile.shape[1]"
   ]
  },
  {
   "cell_type": "code",
   "execution_count": 135,
   "metadata": {},
   "outputs": [],
   "source": [
    "def rle_to_mask(rleString,height,width):\n",
    "  rows,cols = height,width\n",
    "  rleNumbers = [int(numstring) for numstring in rleString.split(' ')]\n",
    "  rlePairs = np.array(rleNumbers).reshape(-1,2)\n",
    "  img = np.zeros(rows*cols,dtype=np.uint8)\n",
    "  for index,length in rlePairs:\n",
    "    index -= 1\n",
    "    img[index:index+length] = 255\n",
    "  img = img.reshape(cols,rows)\n",
    "  img = img.T\n",
    "  return img"
   ]
  },
  {
   "cell_type": "code",
   "execution_count": 136,
   "metadata": {},
   "outputs": [],
   "source": [
    "imagemask = rle_to_mask(rlemask,height,width)"
   ]
  },
  {
   "cell_type": "code",
   "execution_count": 137,
   "metadata": {},
   "outputs": [],
   "source": [
    "save_image(imagemask, '../Dataset/1d3fdbd3a_mask.jpg')"
   ]
  },
  {
   "cell_type": "code",
   "execution_count": 138,
   "metadata": {},
   "outputs": [],
   "source": [
    "def first_nonzero(arr, axis, invalid_val=-1):\n",
    "    mask = arr!=0\n",
    "    return np.where(mask.any(axis=axis), mask.argmax(axis=axis), invalid_val)\n",
    "\n",
    "def last_nonzero(arr, axis, invalid_val=-1):\n",
    "    mask = arr!=0\n",
    "    val = arr.shape[axis] - np.flip(mask, axis=axis).argmax(axis=axis) - 1\n",
    "    return np.where(mask.any(axis=axis), val, invalid_val)"
   ]
  },
  {
   "cell_type": "code",
   "execution_count": 139,
   "metadata": {
    "collapsed": true
   },
   "outputs": [
    {
     "name": "stdout",
     "output_type": "stream",
     "text": [
      "72\n236\n"
     ]
    }
   ],
   "source": [
    "first_nonzero_cols = first_nonzero(imagemask, axis=0, invalid_val=0)\n",
    "x_1 = first_nonzero(first_nonzero_cols, axis=0, invalid_val=-1)\n",
    "print(x_1)\n",
    "x_2 = last_nonzero(first_nonzero_cols, axis=0, invalid_val=-1)\n",
    "print(x_2)"
   ]
  },
  {
   "cell_type": "code",
   "execution_count": 140,
   "metadata": {},
   "outputs": [
    {
     "name": "stdout",
     "output_type": "stream",
     "text": [
      "[  0   0   0   0   0   0   0   0   0   0   0   0   0   0   0   0   0   0\n   0   0   0   0   0   0   0   0   0   0   0   0   0   0   0   0   0   0\n   0   0   0   0   0   0   0   0   0   0   0   0   0   0   0   0   0   0\n   0   0   0   0   0   0   0   0   0   0   0   0   0   0   0   0   0   0\n 713 712 711 711 710 709 708 707 707 706 705 704 703 703 702 701 700 699\n 699 698 697 696 695 695 694 693 692 691 691 690 689 688 687 687 686 685\n 684 683 683 682 681 680 679 679 678 677 676 675 675 674 673 672 671 671\n 670 669 668 667 667 666 665 664 663 663 662 661 660 659 659 658 657 656\n 656 655 654 653 652 652 651 650 649 648 648 647 646 645 644 644 643 642\n 641 640 640 639 638 637 636 636 635 634 633 632 632 631 630 629 628 628\n 627 626 625 624 624 623 622 621 620 620 619 618 617 616 616 615 614 613\n 612 612 611 610 609 608 608 607 606 605 604 604 603 602 601 600 600 599\n 598 599 600 602 603 604 605 607 608 609 610 612 613 614 615 617 618 619\n 620 622 623   0   0   0   0   0   0   0   0   0   0   0   0   0   0   0\n   0   0   0   0   0   0   0   0   0   0   0   0   0   0   0   0   0   0\n   0   0   0   0   0   0   0   0   0   0   0   0   0   0   0   0   0   0\n   0   0   0   0   0   0   0   0   0   0   0   0   0   0   0   0   0   0\n   0   0   0   0   0   0   0   0   0   0   0   0   0   0   0   0   0   0\n   0   0   0   0   0   0   0   0   0   0   0   0   0   0   0   0   0   0\n   0   0   0   0   0   0   0   0   0   0   0   0   0   0   0   0   0   0\n   0   0   0   0   0   0   0   0   0   0   0   0   0   0   0   0   0   0\n   0   0   0   0   0   0   0   0   0   0   0   0   0   0   0   0   0   0\n   0   0   0   0   0   0   0   0   0   0   0   0   0   0   0   0   0   0\n   0   0   0   0   0   0   0   0   0   0   0   0   0   0   0   0   0   0\n   0   0   0   0   0   0   0   0   0   0   0   0   0   0   0   0   0   0\n   0   0   0   0   0   0   0   0   0   0   0   0   0   0   0   0   0   0\n   0   0   0   0   0   0   0   0   0   0   0   0   0   0   0   0   0   0\n   0   0   0   0   0   0   0   0   0   0   0   0   0   0   0   0   0   0\n   0   0   0   0   0   0   0   0   0   0   0   0   0   0   0   0   0   0\n   0   0   0   0   0   0   0   0   0   0   0   0   0   0   0   0   0   0\n   0   0   0   0   0   0   0   0   0   0   0   0   0   0   0   0   0   0\n   0   0   0   0   0   0   0   0   0   0   0   0   0   0   0   0   0   0\n   0   0   0   0   0   0   0   0   0   0   0   0   0   0   0   0   0   0\n   0   0   0   0   0   0   0   0   0   0   0   0   0   0   0   0   0   0\n   0   0   0   0   0   0   0   0   0   0   0   0   0   0   0   0   0   0\n   0   0   0   0   0   0   0   0   0   0   0   0   0   0   0   0   0   0\n   0   0   0   0   0   0   0   0   0   0   0   0   0   0   0   0   0   0\n   0   0   0   0   0   0   0   0   0   0   0   0   0   0   0   0   0   0\n   0   0   0   0   0   0   0   0   0   0   0   0   0   0   0   0   0   0\n   0   0   0   0   0   0   0   0   0   0   0   0   0   0   0   0   0   0\n   0   0   0   0   0   0   0   0   0   0   0   0   0   0   0   0   0   0\n   0   0   0   0   0   0   0   0   0   0   0   0   0   0   0   0   0   0\n   0   0   0   0   0   0   0   0   0   0   0   0]\n"
     ]
    }
   ],
   "source": [
    "print(first_nonzero_cols)"
   ]
  },
  {
   "cell_type": "code",
   "execution_count": 141,
   "metadata": {},
   "outputs": [
    {
     "name": "stdout",
     "output_type": "stream",
     "text": [
      "[  0   0   0   0   0   0   0   0   0   0   0   0   0   0   0   0   0   0\n   0   0   0   0   0   0   0   0   0   0   0   0   0   0   0   0   0   0\n   0   0   0   0   0   0   0   0   0   0   0   0   0   0   0   0   0   0\n   0   0   0   0   0   0   0   0   0   0   0   0   0   0   0   0   0   0\n   0   0   0   0   0   0   0   0   0   0   0   0   0   0   0   0   0   0\n   0   0   0   0   0   0   0   0   0   0   0   0   0   0   0   0   0   0\n   0   0   0   0   0   0   0   0   0   0   0   0   0   0   0   0   0   0\n   0   0   0   0   0   0   0   0   0   0   0   0   0   0   0   0   0   0\n   0   0   0   0   0   0   0   0   0   0   0   0   0   0   0   0   0   0\n   0   0   0   0   0   0   0   0   0   0   0   0   0   0   0   0   0   0\n   0   0   0   0   0   0   0   0   0   0   0   0   0   0   0   0   0   0\n   0   0   0   0   0   0   0   0   0   0   0   0   0   0   0   0   0   0\n   0   0   0   0   0   0   0   0   0   0   0   0   0   0   0   0   0   0\n   0   0   0   0   0   0   0   0   0   0   0   0   0   0   0   0   0   0\n   0   0   0   0   0   0   0   0   0   0   0   0   0   0   0   0   0   0\n   0   0   0   0   0   0   0   0   0   0   0   0   0   0   0   0   0   0\n   0   0   0   0   0   0   0   0   0   0   0   0   0   0   0   0   0   0\n   0   0   0   0   0   0   0   0   0   0   0   0   0   0   0   0   0   0\n   0   0   0   0   0   0   0   0   0   0   0   0   0   0   0   0   0   0\n   0   0   0   0   0   0   0   0   0   0   0   0   0   0   0   0   0   0\n   0   0   0   0   0   0   0   0   0   0   0   0   0   0   0   0   0   0\n   0   0   0   0   0   0   0   0   0   0   0   0   0   0   0   0   0   0\n   0   0   0   0   0   0   0   0   0   0   0   0   0   0   0   0   0   0\n   0   0   0   0   0   0   0   0   0   0   0   0   0   0   0   0   0   0\n   0   0   0   0   0   0   0   0   0   0   0   0   0   0   0   0   0   0\n   0   0   0   0   0   0   0   0   0   0   0   0   0   0   0   0   0   0\n   0   0   0   0   0   0   0   0   0   0   0   0   0   0   0   0   0   0\n   0   0   0   0   0   0   0   0   0   0   0   0   0   0   0   0   0   0\n   0   0   0   0   0   0   0   0   0   0   0   0   0   0   0   0   0   0\n   0   0   0   0   0   0   0   0   0   0   0   0   0   0   0   0   0   0\n   0   0   0   0   0   0   0   0   0   0   0   0   0   0   0   0   0   0\n   0   0   0   0   0   0   0   0   0   0   0   0   0   0   0   0   0   0\n   0   0   0   0   0   0   0   0   0   0   0   0   0   0   0   0   0   0\n   0   0   0   0 216 215 213 212 211 210 208 207 206 205 203 202 201 200\n 198 197 196 195 193 192 191 190 188 187 186 185 183 182 181 180 178 177\n 176 175 173 172 171 170 168 167 166 165 163 162 161 160 158 157 156 155\n 153 152 151 150 148 147 146 145 143 142 141 139 138 137 136 134 133 132\n 131 129 128 127 126 124 123 122 121 119 118 117 116 114 113 112 111 109\n 108 107 106 104 103 102 101  99  98  97  96  94  93  92  91  89  88  87\n  86  84  83  82  81  79  78  77  76  74  73  72  73  74  74  75  76  77\n  78  78  79  80  81  82  82  83  84  85  86  86  87  88  89  90  90  91\n  92   0   0   0   0   0   0   0   0   0   0   0   0   0   0   0   0   0\n   0   0   0   0   0   0   0   0   0   0   0   0]\n"
     ]
    }
   ],
   "source": [
    "first_nonzero_rows = first_nonzero(imagemask, axis=1, invalid_val=0)\n",
    "print(first_nonzero_rows)"
   ]
  },
  {
   "cell_type": "code",
   "execution_count": 142,
   "metadata": {},
   "outputs": [
    {
     "name": "stdout",
     "output_type": "stream",
     "text": [
      "598\n738\n"
     ]
    }
   ],
   "source": [
    "y_1 = first_nonzero(first_nonzero_rows, axis=0, invalid_val=-1)\n",
    "print(y_1)\n",
    "y_2 = last_nonzero(first_nonzero_rows, axis=0, invalid_val=-1)\n",
    "print(y_2)"
   ]
  },
  {
   "cell_type": "code",
   "execution_count": 143,
   "metadata": {},
   "outputs": [
    {
     "name": "stdout",
     "output_type": "stream",
     "text": [
      "598\n"
     ]
    }
   ],
   "source": [
    "line = np.zeros(height,dtype=int)\n",
    "line.fill(255)\n",
    "print(y_1)"
   ]
  },
  {
   "cell_type": "code",
   "execution_count": 144,
   "metadata": {},
   "outputs": [],
   "source": [
    "imagemask[y_1,:] = line\n",
    "imagemask[y_2,:] = line\n",
    "imagemask[:,x_1] = line\n",
    "imagemask[:,x_2] = line\n"
   ]
  },
  {
   "cell_type": "code",
   "execution_count": 145,
   "metadata": {},
   "outputs": [],
   "source": [
    "save_image(imagemask, '../Dataset/1d3fdbd3a_mask.jpg')"
   ]
  },
  {
   "cell_type": "code",
   "execution_count": 146,
   "metadata": {},
   "outputs": [
    {
     "name": "stdout",
     "output_type": "stream",
     "text": [
      "154 668 140 164\n"
     ]
    }
   ],
   "source": [
    "x = (x_1+x_2)//2\n",
    "y = (y_1+y_2)//2\n",
    "h = y_2-y_1\n",
    "w = x_2 - x_1\n",
    "print(x,y,h,w)"
   ]
  },
  {
   "cell_type": "code",
   "execution_count": 117,
   "metadata": {},
   "outputs": [
    {
     "name": "stdout",
     "output_type": "stream",
     "text": [
      "              ImageId                                      EncodedPixels\n0       00003e153.jpg                                                NaN\n1       000155de5.jpg  264661 17 265429 33 266197 33 266965 33 267733...\n2       00021ddc3.jpg  101361 1 102128 3 102896 4 103663 6 104430 9 1...\n3       00021ddc3.jpg  95225 2 95992 5 96760 7 97527 9 98294 9 99062 ...\n4       00021ddc3.jpg  74444 4 75212 4 75980 4 76748 4 77517 3 78285 ...\n5       00021ddc3.jpg  150423 2 151190 3 151958 3 152726 4 153495 3 1...\n6       00021ddc3.jpg  139644 2 140408 6 141174 9 141942 9 142711 6 1...\n7       00021ddc3.jpg  86727 2 87493 4 88261 4 89030 3 89798 4 90566 ...\n8       00021ddc3.jpg  74441 3 75207 5 75975 5 76743 5 77511 5 78280 ...\n9       00021ddc3.jpg  75972 3 76738 5 77506 5 78274 5 79042 6 79811 ...\n10      00021ddc3.jpg  108287 1 109054 3 109821 4 110588 5 111356 5 1...\n11      0002756f7.jpg  255784 2 256552 4 257319 7 258087 9 258854 12 ...\n12      0002756f7.jpg  248878 1 249645 4 250413 6 251180 9 251948 10 ...\n13      0002d0f32.jpg                                                NaN\n14      000303d4d.jpg                                                NaN\n15      00031f145.jpg  340363 1 341129 4 341896 6 342663 7 343429 10 ...\n16      00053c6ba.jpg  565382 3 566144 9 566909 12 567677 13 568445 1...\n17      00057a50d.jpg                                                NaN\n18      0005d01c8.jpg  56010 1 56777 3 57544 6 58312 7 59079 9 59846 ...\n19      0005d01c8.jpg  365871 1 366638 3 367405 6 368173 7 368940 9 3...\n20      0006c52e8.jpg  146366 1 147132 4 147899 5 148666 7 149432 10 ...\n21      0007b8229.jpg                                                NaN\n22      000811bb6.jpg                                                NaN\n23      0008d6216.jpg                                                NaN\n24      000969125.jpg                                                NaN\n25      0009a46e1.jpg                                                NaN\n26      000a4d4fd.jpg                                                NaN\n27      000baef0c.jpg                                                NaN\n28      000bd9ac4.jpg                                                NaN\n29      000c150b0.jpg                                                NaN\n...               ...                                                ...\n131000  ffed6e788.jpg  158 17 925 20 1693 21 2460 21 3228 21 3995 21 ...\n131001  ffee0cf47.jpg                                                NaN\n131002  ffee378e9.jpg                                                NaN\n131003  ffeeb009b.jpg  560758 2 561526 6 562294 10 563061 15 563829 1...\n131004  ffef7c3f3.jpg  119822 1 120589 3 121356 5 122123 7 122890 9 1...\n131005  ffef7c3f3.jpg  476372 3 477138 5 477906 6 478674 6 479443 5 4...\n131006  ffef7c3f3.jpg  434402 2 435169 5 435937 6 436704 7 437472 6 4...\n131007  fff0464c0.jpg                                                NaN\n131008  fff05f8af.jpg                                                NaN\n131009  fff139aa6.jpg                                                NaN\n131010  fff3220c3.jpg                                                NaN\n131011  fff37ad60.jpg                                                NaN\n131012  fff422ae3.jpg                                                NaN\n131013  fff4b225c.jpg                                                NaN\n131014  fff529a0e.jpg  530576 1 531343 3 532110 5 532877 7 533646 8 5...\n131015  fff60f4bc.jpg                                                NaN\n131016  fff67c31a.jpg  119970 1 120737 3 121503 6 122270 8 123037 10 ...\n131017  fff77c602.jpg  133056 1 133823 4 134591 6 135358 8 136126 10 ...\n131018  fff8125de.jpg                                                NaN\n131019  fff89e163.jpg                                                NaN\n131020  fff9395dc.jpg                                                NaN\n131021  fff998ae9.jpg                                                NaN\n131022  fffb2924f.jpg                                                NaN\n131023  fffc0ade1.jpg                                                NaN\n131024  fffc12f8c.jpg                                                NaN\n131025  fffc6b811.jpg                                                NaN\n131026  fffcd0cf7.jpg                                                NaN\n131027  fffedbb6b.jpg                                                NaN\n131028  ffff2aa57.jpg                                                NaN\n131029  ffffc50b4.jpg                                                NaN\n\n[131030 rows x 2 columns]\n"
     ]
    }
   ],
   "source": [
    "df = pd.read_csv('../Dataset/Ship_Detection/train_ship_segmentations.csv')\n",
    "print(df)"
   ]
  },
  {
   "cell_type": "code",
   "execution_count": 118,
   "metadata": {},
   "outputs": [
    {
     "data": {
      "text/plain": [
       "pandas.core.frame.DataFrame"
      ]
     },
     "execution_count": 118,
     "metadata": {},
     "output_type": "execute_result"
    }
   ],
   "source": [
    "type(df)"
   ]
  },
  {
   "cell_type": "code",
   "execution_count": 123,
   "metadata": {},
   "outputs": [
    {
     "ename": "SyntaxError",
     "evalue": "invalid syntax (<ipython-input-123-df71c8fff612>, line 2)",
     "traceback": [
      "\u001b[1;36m  File \u001b[1;32m\"<ipython-input-123-df71c8fff612>\"\u001b[1;36m, line \u001b[1;32m2\u001b[0m\n\u001b[1;33m    if type(row['EncodedPixels']) == str\u001b[0m\n\u001b[1;37m                                        ^\u001b[0m\n\u001b[1;31mSyntaxError\u001b[0m\u001b[1;31m:\u001b[0m invalid syntax\n"
     ],
     "output_type": "error"
    }
   ],
   "source": [
    "for index, row in df.iterrows():\n",
    "    if type(row['EncodedPixels'])\n",
    "        print(row['ImageId'],type(row['EncodedPixels']))\n",
    "        break\n",
    "    "
   ]
  },
  {
   "cell_type": "code",
   "execution_count": 124,
   "metadata": {},
   "outputs": [],
   "source": [
    "df_null = df[pd.isnull(df).any(axis=1)]"
   ]
  },
  {
   "cell_type": "code",
   "execution_count": 125,
   "metadata": {},
   "outputs": [
    {
     "data": {
      "text/plain": [
       "(131030, 2)"
      ]
     },
     "execution_count": 125,
     "metadata": {},
     "output_type": "execute_result"
    }
   ],
   "source": [
    "df.shape"
   ]
  },
  {
   "cell_type": "code",
   "execution_count": 126,
   "metadata": {},
   "outputs": [
    {
     "data": {
      "text/plain": [
       "(75000, 2)"
      ]
     },
     "execution_count": 126,
     "metadata": {},
     "output_type": "execute_result"
    }
   ],
   "source": [
    "df_null.shape"
   ]
  },
  {
   "cell_type": "code",
   "execution_count": 128,
   "metadata": {},
   "outputs": [
    {
     "data": {
      "text/plain": [
       "(56030, 2)"
      ]
     },
     "execution_count": 128,
     "metadata": {},
     "output_type": "execute_result"
    }
   ],
   "source": [
    "df.dropna().shape"
   ]
  },
  {
   "cell_type": "code",
   "execution_count": null,
   "metadata": {},
   "outputs": [],
   "source": []
  }
 ],
 "metadata": {
  "kernelspec": {
   "display_name": "Python 2",
   "language": "python",
   "name": "python2"
  },
  "language_info": {
   "codemirror_mode": {
    "name": "ipython",
    "version": 2
   },
   "file_extension": ".py",
   "mimetype": "text/x-python",
   "name": "python",
   "nbconvert_exporter": "python",
   "pygments_lexer": "ipython2",
   "version": "2.7.6"
  }
 },
 "nbformat": 4,
 "nbformat_minor": 0
}
